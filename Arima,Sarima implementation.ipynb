{
 "cells": [
  {
   "cell_type": "code",
   "execution_count": 54,
   "metadata": {},
   "outputs": [],
   "source": [
    "import warnings\n",
    "warnings.filterwarnings('ignore')\n",
    "import pandas as pd\n",
    "import matplotlib.pyplot as plt\n",
    "import seaborn as sns\n",
    "sns.set(font='IPAGothic')\n",
    "import numpy as np\n",
    "import statsmodels.api as sm"
   ]
  },
  {
   "cell_type": "code",
   "execution_count": 55,
   "metadata": {},
   "outputs": [],
   "source": [
    "train = pd.read_csv('C:\\\\Users\\\\Riyansika\\\\Desktop\\\\mith exam\\\\mith time series\\\\data.csv' ,usecols=['date','sales','outlet','state','category_of_product','product_identifier','department_identifier'],parse_dates=['date'],index_col='date')#('../input/train.csv' ,parse_dates=['date'],index_col='date')\n",
    "test = pd.read_csv('C:\\\\Users\\\\Riyansika\\\\Desktop\\\\mith exam\\\\mith time series\\\\test.csv',usecols=['date','outlet','state','category_of_product','product_identifier','department_identifier'], parse_dates=['date'],index_col='date')#('../input/test.csv', parse_dates=['date'],index_col='date')\n",
    "df = pd.concat([train,test],sort=True)\n",
    "sample = pd.read_csv('C:\\\\Users\\\\Riyansika\\\\Desktop\\\\mith exam\\\\mith time series\\\\submission.csv')#('../input/sample_submission.csv')"
   ]
  },
  {
   "cell_type": "code",
   "execution_count": 56,
   "metadata": {},
   "outputs": [
    {
     "data": {
      "text/html": [
       "<div>\n",
       "<style scoped>\n",
       "    .dataframe tbody tr th:only-of-type {\n",
       "        vertical-align: middle;\n",
       "    }\n",
       "\n",
       "    .dataframe tbody tr th {\n",
       "        vertical-align: top;\n",
       "    }\n",
       "\n",
       "    .dataframe thead th {\n",
       "        text-align: right;\n",
       "    }\n",
       "</style>\n",
       "<table border=\"1\" class=\"dataframe\">\n",
       "  <thead>\n",
       "    <tr style=\"text-align: right;\">\n",
       "      <th></th>\n",
       "      <th>category_of_product</th>\n",
       "      <th>department_identifier</th>\n",
       "      <th>outlet</th>\n",
       "      <th>product_identifier</th>\n",
       "      <th>sales</th>\n",
       "      <th>state</th>\n",
       "    </tr>\n",
       "    <tr>\n",
       "      <th>date</th>\n",
       "      <th></th>\n",
       "      <th></th>\n",
       "      <th></th>\n",
       "      <th></th>\n",
       "      <th></th>\n",
       "      <th></th>\n",
       "    </tr>\n",
       "  </thead>\n",
       "  <tbody>\n",
       "    <tr>\n",
       "      <td>2012-01-01</td>\n",
       "      <td>others</td>\n",
       "      <td>11</td>\n",
       "      <td>111</td>\n",
       "      <td>74</td>\n",
       "      <td>0.0</td>\n",
       "      <td>Maharashtra</td>\n",
       "    </tr>\n",
       "    <tr>\n",
       "      <td>2012-01-01</td>\n",
       "      <td>others</td>\n",
       "      <td>11</td>\n",
       "      <td>111</td>\n",
       "      <td>337</td>\n",
       "      <td>1.0</td>\n",
       "      <td>Maharashtra</td>\n",
       "    </tr>\n",
       "    <tr>\n",
       "      <td>2012-01-01</td>\n",
       "      <td>others</td>\n",
       "      <td>12</td>\n",
       "      <td>111</td>\n",
       "      <td>423</td>\n",
       "      <td>0.0</td>\n",
       "      <td>Maharashtra</td>\n",
       "    </tr>\n",
       "    <tr>\n",
       "      <td>2012-01-01</td>\n",
       "      <td>others</td>\n",
       "      <td>12</td>\n",
       "      <td>111</td>\n",
       "      <td>432</td>\n",
       "      <td>0.0</td>\n",
       "      <td>Maharashtra</td>\n",
       "    </tr>\n",
       "    <tr>\n",
       "      <td>2012-01-01</td>\n",
       "      <td>fast_moving_consumer_goods</td>\n",
       "      <td>21</td>\n",
       "      <td>111</td>\n",
       "      <td>581</td>\n",
       "      <td>0.0</td>\n",
       "      <td>Maharashtra</td>\n",
       "    </tr>\n",
       "  </tbody>\n",
       "</table>\n",
       "</div>"
      ],
      "text/plain": [
       "                   category_of_product  department_identifier  outlet  \\\n",
       "date                                                                    \n",
       "2012-01-01                      others                     11     111   \n",
       "2012-01-01                      others                     11     111   \n",
       "2012-01-01                      others                     12     111   \n",
       "2012-01-01                      others                     12     111   \n",
       "2012-01-01  fast_moving_consumer_goods                     21     111   \n",
       "\n",
       "            product_identifier  sales        state  \n",
       "date                                                \n",
       "2012-01-01                  74    0.0  Maharashtra  \n",
       "2012-01-01                 337    1.0  Maharashtra  \n",
       "2012-01-01                 423    0.0  Maharashtra  \n",
       "2012-01-01                 432    0.0  Maharashtra  \n",
       "2012-01-01                 581    0.0  Maharashtra  "
      ]
     },
     "execution_count": 56,
     "metadata": {},
     "output_type": "execute_result"
    }
   ],
   "source": [
    "df.head()"
   ]
  },
  {
   "cell_type": "markdown",
   "metadata": {},
   "source": [
    "train.product_identifier.unique(),train.department_identifier.unique()\n",
    "\n",
    "(array([  74,  337,  423,  432,  581,  611,  631,  659,  743,  797,  868,\n",
    "         904,  926,  972,  973, 1054, 1135, 1173, 1190, 1196, 1228, 1240,\n",
    "        1242, 1275, 1322, 1328, 1365, 1424, 1472, 1508, 1542, 1548, 1599,\n",
    "        1629, 1672, 1694, 1727, 1753, 2294, 2332, 2492, 2768, 2794, 2818,\n",
    "        2853, 2932, 2935, 3004, 3008, 3021], dtype=int64),\n",
    " array([11, 12, 21, 22, 31, 33], dtype=int64))"
   ]
  },
  {
   "cell_type": "code",
   "execution_count": 57,
   "metadata": {},
   "outputs": [
    {
     "data": {
      "text/plain": [
       "(array(['Maharashtra', 'Telangana', 'Kerala'], dtype=object),\n",
       " array([111, 112, 113, 114, 221, 222, 223, 331, 332, 333], dtype=int64))"
      ]
     },
     "execution_count": 57,
     "metadata": {},
     "output_type": "execute_result"
    }
   ],
   "source": [
    "df.state.unique(),df.outlet.unique()"
   ]
  },
  {
   "cell_type": "code",
   "execution_count": 5,
   "metadata": {},
   "outputs": [],
   "source": [
    "buf = df[(df.product_identifier==74)&(df.outlet==111)].copy()"
   ]
  },
  {
   "cell_type": "code",
   "execution_count": 6,
   "metadata": {},
   "outputs": [
    {
     "data": {
      "text/html": [
       "<div>\n",
       "<style scoped>\n",
       "    .dataframe tbody tr th:only-of-type {\n",
       "        vertical-align: middle;\n",
       "    }\n",
       "\n",
       "    .dataframe tbody tr th {\n",
       "        vertical-align: top;\n",
       "    }\n",
       "\n",
       "    .dataframe thead th {\n",
       "        text-align: right;\n",
       "    }\n",
       "</style>\n",
       "<table border=\"1\" class=\"dataframe\">\n",
       "  <thead>\n",
       "    <tr style=\"text-align: right;\">\n",
       "      <th></th>\n",
       "      <th>category_of_product</th>\n",
       "      <th>department_identifier</th>\n",
       "      <th>outlet</th>\n",
       "      <th>product_identifier</th>\n",
       "      <th>sales</th>\n",
       "      <th>state</th>\n",
       "    </tr>\n",
       "    <tr>\n",
       "      <th>date</th>\n",
       "      <th></th>\n",
       "      <th></th>\n",
       "      <th></th>\n",
       "      <th></th>\n",
       "      <th></th>\n",
       "      <th></th>\n",
       "    </tr>\n",
       "  </thead>\n",
       "  <tbody>\n",
       "    <tr>\n",
       "      <td>2012-01-01</td>\n",
       "      <td>others</td>\n",
       "      <td>11</td>\n",
       "      <td>111</td>\n",
       "      <td>74</td>\n",
       "      <td>0.0</td>\n",
       "      <td>Maharashtra</td>\n",
       "    </tr>\n",
       "    <tr>\n",
       "      <td>2012-01-02</td>\n",
       "      <td>others</td>\n",
       "      <td>11</td>\n",
       "      <td>111</td>\n",
       "      <td>74</td>\n",
       "      <td>0.0</td>\n",
       "      <td>Maharashtra</td>\n",
       "    </tr>\n",
       "    <tr>\n",
       "      <td>2012-01-03</td>\n",
       "      <td>others</td>\n",
       "      <td>11</td>\n",
       "      <td>111</td>\n",
       "      <td>74</td>\n",
       "      <td>1.0</td>\n",
       "      <td>Maharashtra</td>\n",
       "    </tr>\n",
       "    <tr>\n",
       "      <td>2012-01-04</td>\n",
       "      <td>others</td>\n",
       "      <td>11</td>\n",
       "      <td>111</td>\n",
       "      <td>74</td>\n",
       "      <td>0.0</td>\n",
       "      <td>Maharashtra</td>\n",
       "    </tr>\n",
       "    <tr>\n",
       "      <td>2012-01-05</td>\n",
       "      <td>others</td>\n",
       "      <td>11</td>\n",
       "      <td>111</td>\n",
       "      <td>74</td>\n",
       "      <td>0.0</td>\n",
       "      <td>Maharashtra</td>\n",
       "    </tr>\n",
       "  </tbody>\n",
       "</table>\n",
       "</div>"
      ],
      "text/plain": [
       "           category_of_product  department_identifier  outlet  \\\n",
       "date                                                            \n",
       "2012-01-01              others                     11     111   \n",
       "2012-01-02              others                     11     111   \n",
       "2012-01-03              others                     11     111   \n",
       "2012-01-04              others                     11     111   \n",
       "2012-01-05              others                     11     111   \n",
       "\n",
       "            product_identifier  sales        state  \n",
       "date                                                \n",
       "2012-01-01                  74    0.0  Maharashtra  \n",
       "2012-01-02                  74    0.0  Maharashtra  \n",
       "2012-01-03                  74    1.0  Maharashtra  \n",
       "2012-01-04                  74    0.0  Maharashtra  \n",
       "2012-01-05                  74    0.0  Maharashtra  "
      ]
     },
     "execution_count": 6,
     "metadata": {},
     "output_type": "execute_result"
    }
   ],
   "source": [
    "buf.head()"
   ]
  },
  {
   "cell_type": "code",
   "execution_count": 7,
   "metadata": {},
   "outputs": [
    {
     "name": "stderr",
     "output_type": "stream",
     "text": [
      "findfont: Font family ['IPAGothic'] not found. Falling back to DejaVu Sans.\n",
      "findfont: Font family ['IPAGothic'] not found. Falling back to DejaVu Sans.\n"
     ]
    },
    {
     "data": {
      "image/png": "[encoded data removed]",
      "text/plain": [
       "<Figure size 1080x576 with 4 Axes>"
      ]
     },
     "metadata": {
      "needs_background": "light"
     },
     "output_type": "display_data"
    }
   ],
   "source": [
    "res = sm.tsa.seasonal_decompose(buf.sales.dropna(),freq=365)\n",
    "fig = res.plot()\n",
    "fig.set_figheight(8)\n",
    "fig.set_figwidth(15)\n",
    "plt.show()"
   ]
  },
  {
   "cell_type": "code",
   "execution_count": 8,
   "metadata": {},
   "outputs": [
    {
     "data": {
      "text/plain": [
       "(Timestamp('2012-01-01 00:00:00'),\n",
       " Timestamp('2014-02-28 00:00:00'),\n",
       " Timestamp('2014-03-01 00:00:00'),\n",
       " Timestamp('2014-03-31 00:00:00'))"
      ]
     },
     "execution_count": 8,
     "metadata": {},
     "output_type": "execute_result"
    }
   ],
   "source": [
    "train.index.min(),train.index.max(),test.index.min(),test.index.max(),"
   ]
  },
  {
   "cell_type": "code",
   "execution_count": 9,
   "metadata": {},
   "outputs": [],
   "source": [
    "#train_test_split\n",
    "tr_start,tr_end = '2012-01-01','2013-12-31'\n",
    "te_start,te_end = '2014-01-01','2014-02-28'\n",
    "tra = buf['sales'][tr_start:tr_end].dropna()\n",
    "tes = buf['sales'][te_start:te_end].dropna()"
   ]
  },
  {
   "cell_type": "markdown",
   "metadata": {},
   "source": [
    "We can use ADF-test to check stationary of the data."
   ]
  },
  {
   "cell_type": "code",
   "execution_count": 10,
   "metadata": {},
   "outputs": [
    {
     "data": {
      "text/plain": [
       "date\n",
       "2014-01-01    0.0\n",
       "2014-01-02    0.0\n",
       "2014-01-03    0.0\n",
       "2014-01-04    0.0\n",
       "2014-01-05    2.0\n",
       "2014-01-06    0.0\n",
       "2014-01-07    1.0\n",
       "2014-01-08    0.0\n",
       "2014-01-09    0.0\n",
       "2014-01-10    0.0\n",
       "2014-01-11    0.0\n",
       "2014-01-12    0.0\n",
       "2014-01-13    0.0\n",
       "2014-01-14    0.0\n",
       "2014-01-15    0.0\n",
       "2014-01-16    0.0\n",
       "2014-01-17    0.0\n",
       "2014-01-18    0.0\n",
       "2014-01-19    0.0\n",
       "2014-01-20    0.0\n",
       "2014-01-21    0.0\n",
       "2014-01-22    0.0\n",
       "2014-01-23    1.0\n",
       "2014-01-24    0.0\n",
       "2014-01-25    0.0\n",
       "2014-01-26    0.0\n",
       "2014-01-27    0.0\n",
       "2014-01-28    0.0\n",
       "2014-01-29    0.0\n",
       "2014-01-30    1.0\n",
       "2014-01-31    1.0\n",
       "2014-02-01    0.0\n",
       "2014-02-02    0.0\n",
       "2014-02-03    0.0\n",
       "2014-02-04    1.0\n",
       "2014-02-05    0.0\n",
       "2014-02-06    0.0\n",
       "2014-02-07    0.0\n",
       "2014-02-08    1.0\n",
       "2014-02-09    0.0\n",
       "2014-02-10    0.0\n",
       "2014-02-11    0.0\n",
       "2014-02-12    0.0\n",
       "2014-02-13    0.0\n",
       "2014-02-14    0.0\n",
       "2014-02-15    0.0\n",
       "2014-02-16    1.0\n",
       "2014-02-17    1.0\n",
       "2014-02-18    1.0\n",
       "2014-02-19    0.0\n",
       "2014-02-20    1.0\n",
       "2014-02-21    0.0\n",
       "2014-02-22    0.0\n",
       "2014-02-23    1.0\n",
       "2014-02-24    0.0\n",
       "2014-02-25    0.0\n",
       "2014-02-26    0.0\n",
       "2014-02-27    0.0\n",
       "2014-02-28    0.0\n",
       "Name: sales, dtype: float64"
      ]
     },
     "execution_count": 10,
     "metadata": {},
     "output_type": "execute_result"
    }
   ],
   "source": [
    "tes"
   ]
  },
  {
   "cell_type": "code",
   "execution_count": 11,
   "metadata": {},
   "outputs": [
    {
     "name": "stdout",
     "output_type": "stream",
     "text": [
      "p-value:0.0\n"
     ]
    }
   ],
   "source": [
    "#ADF-test(Original-time-series)\n",
    "res = sm.tsa.adfuller(buf['sales'].dropna(),regression='ct')\n",
    "print('p-value:{}'.format(res[1]))"
   ]
  },
  {
   "cell_type": "code",
   "execution_count": 12,
   "metadata": {},
   "outputs": [
    {
     "name": "stdout",
     "output_type": "stream",
     "text": [
      "p-value:1.6073260811657734e-24\n"
     ]
    }
   ],
   "source": [
    "#ADF-test(differenced-time-series)\n",
    "res = sm.tsa.adfuller(buf['sales'].diff().dropna(),regression='c')\n",
    "print('p-value:{}'.format(res[1]))"
   ]
  },
  {
   "cell_type": "markdown",
   "metadata": {},
   "source": [
    "What is adfuller method parameter 'regression'?\n",
    "- ’c’ : constant only (default)\n",
    "- ’ct’ : constant and trend\n",
    "- ’ctt’ : constant, and linear and quadratic trend\n",
    "- ’nc’ : no constant, no trend\n",
    "\n",
    "[https://www.statsmodels.org/dev/generated/statsmodels.tsa.stattools.adfuller.html](https://www.statsmodels.org/dev/generated/statsmodels.tsa.stattools.adfuller.html) \n"
   ]
  },
  {
   "cell_type": "markdown",
   "metadata": {},
   "source": [
    "It's important to choose carefully a period of the data which will be used in predicting. Because, The results depend on the period."
   ]
  },
  {
   "cell_type": "code",
   "execution_count": 13,
   "metadata": {},
   "outputs": [
    {
     "name": "stdout",
     "output_type": "stream",
     "text": [
      "p-value:0.0\n"
     ]
    }
   ],
   "source": [
    "#ADF-test(Original-time-series)\n",
    "res = sm.tsa.adfuller(buf['sales']['2013-01-01':].dropna(),regression='ct')\n",
    "print('p-value:{}'.format(res[1]))"
   ]
  },
  {
   "cell_type": "code",
   "execution_count": 14,
   "metadata": {},
   "outputs": [
    {
     "data": {
      "image/png": "[encoded data removed]",
      "text/plain": [
       "<Figure size 1440x720 with 2 Axes>"
      ]
     },
     "metadata": {
      "needs_background": "light"
     },
     "output_type": "display_data"
    }
   ],
   "source": [
    "#we use tra.diff()(differenced data), because this time series is unit root process.\n",
    "fig,ax = plt.subplots(2,1,figsize=(20,10))\n",
    "fig = sm.graphics.tsa.plot_acf(tra.diff().dropna(), lags=50, ax=ax[0])\n",
    "fig = sm.graphics.tsa.plot_pacf(tra.diff().dropna(), lags=50, ax=ax[1])\n",
    "plt.show()"
   ]
  },
  {
   "cell_type": "markdown",
   "metadata": {},
   "source": [
    "1. if we use arma_order_select_ic method, it is very easy to search best parameters(p,q) of ARMA model."
   ]
  },
  {
   "cell_type": "code",
   "execution_count": 15,
   "metadata": {},
   "outputs": [
    {
     "name": "stderr",
     "output_type": "stream",
     "text": [
      "C:\\Users\\Riyansika\\AppData\\Roaming\\Python\\Python37\\site-packages\\statsmodels\\base\\model.py:548: HessianInversionWarning: Inverting hessian failed, no bse or cov_params available\n",
      "  'available', HessianInversionWarning)\n",
      "C:\\Users\\Riyansika\\AppData\\Roaming\\Python\\Python37\\site-packages\\statsmodels\\base\\model.py:548: HessianInversionWarning: Inverting hessian failed, no bse or cov_params available\n",
      "  'available', HessianInversionWarning)\n",
      "C:\\Users\\Riyansika\\AppData\\Roaming\\Python\\Python37\\site-packages\\statsmodels\\base\\model.py:548: HessianInversionWarning: Inverting hessian failed, no bse or cov_params available\n",
      "  'available', HessianInversionWarning)\n",
      "C:\\Users\\Riyansika\\AppData\\Roaming\\Python\\Python37\\site-packages\\statsmodels\\base\\model.py:568: ConvergenceWarning: Maximum Likelihood optimization failed to converge. Check mle_retvals\n",
      "  \"Check mle_retvals\", ConvergenceWarning)\n",
      "C:\\Users\\Riyansika\\AppData\\Roaming\\Python\\Python37\\site-packages\\statsmodels\\base\\model.py:568: ConvergenceWarning: Maximum Likelihood optimization failed to converge. Check mle_retvals\n",
      "  \"Check mle_retvals\", ConvergenceWarning)\n",
      "C:\\Users\\Riyansika\\AppData\\Roaming\\Python\\Python37\\site-packages\\statsmodels\\base\\model.py:548: HessianInversionWarning: Inverting hessian failed, no bse or cov_params available\n",
      "  'available', HessianInversionWarning)\n",
      "C:\\Users\\Riyansika\\AppData\\Roaming\\Python\\Python37\\site-packages\\statsmodels\\base\\model.py:568: ConvergenceWarning: Maximum Likelihood optimization failed to converge. Check mle_retvals\n",
      "  \"Check mle_retvals\", ConvergenceWarning)\n",
      "C:\\Users\\Riyansika\\AppData\\Roaming\\Python\\Python37\\site-packages\\statsmodels\\base\\model.py:548: HessianInversionWarning: Inverting hessian failed, no bse or cov_params available\n",
      "  'available', HessianInversionWarning)\n",
      "C:\\Users\\Riyansika\\AppData\\Roaming\\Python\\Python37\\site-packages\\statsmodels\\base\\model.py:568: ConvergenceWarning: Maximum Likelihood optimization failed to converge. Check mle_retvals\n",
      "  \"Check mle_retvals\", ConvergenceWarning)\n",
      "C:\\Users\\Riyansika\\AppData\\Roaming\\Python\\Python37\\site-packages\\statsmodels\\base\\model.py:548: HessianInversionWarning: Inverting hessian failed, no bse or cov_params available\n",
      "  'available', HessianInversionWarning)\n",
      "C:\\Users\\Riyansika\\AppData\\Roaming\\Python\\Python37\\site-packages\\statsmodels\\base\\model.py:568: ConvergenceWarning: Maximum Likelihood optimization failed to converge. Check mle_retvals\n",
      "  \"Check mle_retvals\", ConvergenceWarning)\n",
      "C:\\Users\\Riyansika\\AppData\\Roaming\\Python\\Python37\\site-packages\\statsmodels\\base\\model.py:548: HessianInversionWarning: Inverting hessian failed, no bse or cov_params available\n",
      "  'available', HessianInversionWarning)\n",
      "C:\\Users\\Riyansika\\AppData\\Roaming\\Python\\Python37\\site-packages\\statsmodels\\base\\model.py:548: HessianInversionWarning: Inverting hessian failed, no bse or cov_params available\n",
      "  'available', HessianInversionWarning)\n"
     ]
    },
    {
     "name": "stdout",
     "output_type": "stream",
     "text": [
      "ARMA(p,q) = (5, 4) is the best.\n"
     ]
    },
    {
     "name": "stderr",
     "output_type": "stream",
     "text": [
      "C:\\Users\\Riyansika\\AppData\\Roaming\\Python\\Python37\\site-packages\\statsmodels\\base\\model.py:548: HessianInversionWarning: Inverting hessian failed, no bse or cov_params available\n",
      "  'available', HessianInversionWarning)\n"
     ]
    }
   ],
   "source": [
    "resDiff = sm.tsa.arma_order_select_ic(tra, max_ar=7, max_ma=7, ic='aic', trend='c')\n",
    "print('ARMA(p,q) =',resDiff['aic_min_order'],'is the best.')"
   ]
  },
  {
   "cell_type": "markdown",
   "metadata": {},
   "source": [
    "We got parameters (5,0,4)."
   ]
  },
  {
   "cell_type": "markdown",
   "metadata": {},
   "source": [
    "#### We can use SARIMAX model as ARIMAX when seasonal_order is (0,0,0,0) ."
   ]
  },
  {
   "cell_type": "code",
   "execution_count": 16,
   "metadata": {},
   "outputs": [
    {
     "name": "stderr",
     "output_type": "stream",
     "text": [
      "C:\\Users\\Riyansika\\AppData\\Roaming\\Python\\Python37\\site-packages\\statsmodels\\tsa\\base\\tsa_model.py:162: ValueWarning: No frequency information was provided, so inferred frequency D will be used.\n",
      "  % freq, ValueWarning)\n",
      "C:\\Users\\Riyansika\\AppData\\Roaming\\Python\\Python37\\site-packages\\statsmodels\\base\\model.py:568: ConvergenceWarning: Maximum Likelihood optimization failed to converge. Check mle_retvals\n",
      "  \"Check mle_retvals\", ConvergenceWarning)\n"
     ]
    },
    {
     "data": {
      "text/html": [
       "<table class=\"simpletable\">\n",
       "<caption>SARIMAX Results</caption>\n",
       "<tr>\n",
       "  <th>Dep. Variable:</th>         <td>sales</td>      <th>  No. Observations:  </th>    <td>731</td>  \n",
       "</tr>\n",
       "<tr>\n",
       "  <th>Model:</th>           <td>SARIMAX(5, 0, 4)</td> <th>  Log Likelihood     </th> <td>-977.019</td>\n",
       "</tr>\n",
       "<tr>\n",
       "  <th>Date:</th>            <td>Mon, 27 Apr 2020</td> <th>  AIC                </th> <td>1974.038</td>\n",
       "</tr>\n",
       "<tr>\n",
       "  <th>Time:</th>                <td>14:07:56</td>     <th>  BIC                </th> <td>2019.913</td>\n",
       "</tr>\n",
       "<tr>\n",
       "  <th>Sample:</th>             <td>01-01-2012</td>    <th>  HQIC               </th> <td>1991.741</td>\n",
       "</tr>\n",
       "<tr>\n",
       "  <th></th>                   <td>- 12-31-2013</td>   <th>                     </th>     <td> </td>   \n",
       "</tr>\n",
       "<tr>\n",
       "  <th>Covariance Type:</th>        <td>opg</td>       <th>                     </th>     <td> </td>   \n",
       "</tr>\n",
       "</table>\n",
       "<table class=\"simpletable\">\n",
       "<tr>\n",
       "     <td></td>       <th>coef</th>     <th>std err</th>      <th>z</th>      <th>P>|z|</th>  <th>[0.025</th>    <th>0.975]</th>  \n",
       "</tr>\n",
       "<tr>\n",
       "  <th>ar.L1</th>  <td>   -0.3900</td> <td>    0.418</td> <td>   -0.932</td> <td> 0.351</td> <td>   -1.210</td> <td>    0.430</td>\n",
       "</tr>\n",
       "<tr>\n",
       "  <th>ar.L2</th>  <td>   -0.0871</td> <td>    0.205</td> <td>   -0.425</td> <td> 0.671</td> <td>   -0.488</td> <td>    0.314</td>\n",
       "</tr>\n",
       "<tr>\n",
       "  <th>ar.L3</th>  <td>    0.5160</td> <td>    0.211</td> <td>    2.444</td> <td> 0.015</td> <td>    0.102</td> <td>    0.930</td>\n",
       "</tr>\n",
       "<tr>\n",
       "  <th>ar.L4</th>  <td>    0.9032</td> <td>    0.400</td> <td>    2.257</td> <td> 0.024</td> <td>    0.119</td> <td>    1.687</td>\n",
       "</tr>\n",
       "<tr>\n",
       "  <th>ar.L5</th>  <td>    0.0547</td> <td>    0.061</td> <td>    0.901</td> <td> 0.368</td> <td>   -0.064</td> <td>    0.174</td>\n",
       "</tr>\n",
       "<tr>\n",
       "  <th>ma.L1</th>  <td>    0.3350</td> <td>    0.434</td> <td>    0.771</td> <td> 0.440</td> <td>   -0.516</td> <td>    1.186</td>\n",
       "</tr>\n",
       "<tr>\n",
       "  <th>ma.L2</th>  <td>    0.0654</td> <td>    0.314</td> <td>    0.208</td> <td> 0.835</td> <td>   -0.550</td> <td>    0.681</td>\n",
       "</tr>\n",
       "<tr>\n",
       "  <th>ma.L3</th>  <td>   -0.5238</td> <td>    0.279</td> <td>   -1.876</td> <td> 0.061</td> <td>   -1.071</td> <td>    0.023</td>\n",
       "</tr>\n",
       "<tr>\n",
       "  <th>ma.L4</th>  <td>   -0.8776</td> <td>    0.498</td> <td>   -1.764</td> <td> 0.078</td> <td>   -1.853</td> <td>    0.098</td>\n",
       "</tr>\n",
       "<tr>\n",
       "  <th>sigma2</th> <td>    0.8533</td> <td>    0.235</td> <td>    3.636</td> <td> 0.000</td> <td>    0.393</td> <td>    1.313</td>\n",
       "</tr>\n",
       "</table>\n",
       "<table class=\"simpletable\">\n",
       "<tr>\n",
       "  <th>Ljung-Box (Q):</th>          <td>62.08</td> <th>  Jarque-Bera (JB):  </th> <td>3858.49</td>\n",
       "</tr>\n",
       "<tr>\n",
       "  <th>Prob(Q):</th>                <td>0.01</td>  <th>  Prob(JB):          </th>  <td>0.00</td>  \n",
       "</tr>\n",
       "<tr>\n",
       "  <th>Heteroskedasticity (H):</th> <td>0.69</td>  <th>  Skew:              </th>  <td>2.76</td>  \n",
       "</tr>\n",
       "<tr>\n",
       "  <th>Prob(H) (two-sided):</th>    <td>0.00</td>  <th>  Kurtosis:          </th>  <td>12.85</td> \n",
       "</tr>\n",
       "</table><br/><br/>Warnings:<br/>[1] Covariance matrix calculated using the outer product of gradients (complex-step)."
      ],
      "text/plain": [
       "<class 'statsmodels.iolib.summary.Summary'>\n",
       "\"\"\"\n",
       "                               SARIMAX Results                                \n",
       "==============================================================================\n",
       "Dep. Variable:                  sales   No. Observations:                  731\n",
       "Model:               SARIMAX(5, 0, 4)   Log Likelihood                -977.019\n",
       "Date:                Mon, 27 Apr 2020   AIC                           1974.038\n",
       "Time:                        14:07:56   BIC                           2019.913\n",
       "Sample:                    01-01-2012   HQIC                          1991.741\n",
       "                         - 12-31-2013                                         \n",
       "Covariance Type:                  opg                                         \n",
       "==============================================================================\n",
       "                 coef    std err          z      P>|z|      [0.025      0.975]\n",
       "------------------------------------------------------------------------------\n",
       "ar.L1         -0.3900      0.418     -0.932      0.351      -1.210       0.430\n",
       "ar.L2         -0.0871      0.205     -0.425      0.671      -0.488       0.314\n",
       "ar.L3          0.5160      0.211      2.444      0.015       0.102       0.930\n",
       "ar.L4          0.9032      0.400      2.257      0.024       0.119       1.687\n",
       "ar.L5          0.0547      0.061      0.901      0.368      -0.064       0.174\n",
       "ma.L1          0.3350      0.434      0.771      0.440      -0.516       1.186\n",
       "ma.L2          0.0654      0.314      0.208      0.835      -0.550       0.681\n",
       "ma.L3         -0.5238      0.279     -1.876      0.061      -1.071       0.023\n",
       "ma.L4         -0.8776      0.498     -1.764      0.078      -1.853       0.098\n",
       "sigma2         0.8533      0.235      3.636      0.000       0.393       1.313\n",
       "===================================================================================\n",
       "Ljung-Box (Q):                       62.08   Jarque-Bera (JB):              3858.49\n",
       "Prob(Q):                              0.01   Prob(JB):                         0.00\n",
       "Heteroskedasticity (H):               0.69   Skew:                             2.76\n",
       "Prob(H) (two-sided):                  0.00   Kurtosis:                        12.85\n",
       "===================================================================================\n",
       "\n",
       "Warnings:\n",
       "[1] Covariance matrix calculated using the outer product of gradients (complex-step).\n",
       "\"\"\""
      ]
     },
     "execution_count": 16,
     "metadata": {},
     "output_type": "execute_result"
    }
   ],
   "source": [
    "arima = sm.tsa.statespace.SARIMAX(tra,order=(5,0,4),freq='D',seasonal_order=(0,0,0,0),\n",
    "                                 enforce_stationarity=False, enforce_invertibility=False,).fit()\n",
    "arima.summary()\n"
   ]
  },
  {
   "cell_type": "markdown",
   "metadata": {},
   "source": [
    "This model's resid have few autocorrelation.  \n",
    "It means that We were able to make a good model."
   ]
  },
  {
   "cell_type": "code",
   "execution_count": 17,
   "metadata": {},
   "outputs": [
    {
     "data": {
      "image/png": "[encoded data removed]",
      "text/plain": [
       "<Figure size 1080x576 with 2 Axes>"
      ]
     },
     "metadata": {
      "needs_background": "light"
     },
     "output_type": "display_data"
    }
   ],
   "source": [
    "res = arima.resid\n",
    "fig,ax = plt.subplots(2,1,figsize=(15,8))\n",
    "fig = sm.graphics.tsa.plot_acf(res, lags=50, ax=ax[0])\n",
    "fig = sm.graphics.tsa.plot_pacf(res, lags=50, ax=ax[1])\n",
    "plt.show()"
   ]
  },
  {
   "cell_type": "code",
   "execution_count": 18,
   "metadata": {},
   "outputs": [
    {
     "name": "stdout",
     "output_type": "stream",
     "text": [
      "ARIMA model MSE:0.2244837843761233\n"
     ]
    }
   ],
   "source": [
    "from sklearn.metrics import mean_squared_error\n",
    "pred = arima.predict(tr_end,te_end)[1:]\n",
    "print('ARIMA model MSE:{}'.format(mean_squared_error(tes,pred)))"
   ]
  },
  {
   "cell_type": "code",
   "execution_count": 19,
   "metadata": {},
   "outputs": [
    {
     "data": {
      "image/png": "[encoded data removed]",
      "text/plain": [
       "<Figure size 432x288 with 1 Axes>"
      ]
     },
     "metadata": {
      "needs_background": "light"
     },
     "output_type": "display_data"
    }
   ],
   "source": [
    "pd.DataFrame({'test':tes,'pred':pred}).plot();plt.show()"
   ]
  },
  {
   "cell_type": "markdown",
   "metadata": {},
   "source": [
    "## SARIMA"
   ]
  },
  {
   "cell_type": "code",
   "execution_count": 20,
   "metadata": {},
   "outputs": [
    {
     "name": "stderr",
     "output_type": "stream",
     "text": [
      "C:\\Users\\Riyansika\\AppData\\Roaming\\Python\\Python37\\site-packages\\statsmodels\\tsa\\base\\tsa_model.py:162: ValueWarning: No frequency information was provided, so inferred frequency D will be used.\n",
      "  % freq, ValueWarning)\n"
     ]
    },
    {
     "data": {
      "text/html": [
       "<table class=\"simpletable\">\n",
       "<caption>SARIMAX Results</caption>\n",
       "<tr>\n",
       "  <th>Dep. Variable:</th>                <td>sales</td>             <th>  No. Observations:  </th>    <td>731</td>  \n",
       "</tr>\n",
       "<tr>\n",
       "  <th>Model:</th>           <td>SARIMAX(0, 0, 1)x(0, 1, 1, 12)</td> <th>  Log Likelihood     </th> <td>-963.711</td>\n",
       "</tr>\n",
       "<tr>\n",
       "  <th>Date:</th>                   <td>Mon, 27 Apr 2020</td>        <th>  AIC                </th> <td>1933.422</td>\n",
       "</tr>\n",
       "<tr>\n",
       "  <th>Time:</th>                       <td>14:07:58</td>            <th>  BIC                </th> <td>1947.097</td>\n",
       "</tr>\n",
       "<tr>\n",
       "  <th>Sample:</th>                    <td>01-01-2012</td>           <th>  HQIC               </th> <td>1938.707</td>\n",
       "</tr>\n",
       "<tr>\n",
       "  <th></th>                          <td>- 12-31-2013</td>          <th>                     </th>     <td> </td>   \n",
       "</tr>\n",
       "<tr>\n",
       "  <th>Covariance Type:</th>               <td>opg</td>              <th>                     </th>     <td> </td>   \n",
       "</tr>\n",
       "</table>\n",
       "<table class=\"simpletable\">\n",
       "<tr>\n",
       "      <td></td>        <th>coef</th>     <th>std err</th>      <th>z</th>      <th>P>|z|</th>  <th>[0.025</th>    <th>0.975]</th>  \n",
       "</tr>\n",
       "<tr>\n",
       "  <th>ma.L1</th>    <td>   -0.0411</td> <td>    0.054</td> <td>   -0.757</td> <td> 0.449</td> <td>   -0.148</td> <td>    0.065</td>\n",
       "</tr>\n",
       "<tr>\n",
       "  <th>ma.S.L12</th> <td>   -1.0000</td> <td>   16.166</td> <td>   -0.062</td> <td> 0.951</td> <td>  -32.685</td> <td>   30.685</td>\n",
       "</tr>\n",
       "<tr>\n",
       "  <th>sigma2</th>   <td>    0.8504</td> <td>   13.754</td> <td>    0.062</td> <td> 0.951</td> <td>  -26.106</td> <td>   27.807</td>\n",
       "</tr>\n",
       "</table>\n",
       "<table class=\"simpletable\">\n",
       "<tr>\n",
       "  <th>Ljung-Box (Q):</th>          <td>58.49</td> <th>  Jarque-Bera (JB):  </th> <td>3042.48</td>\n",
       "</tr>\n",
       "<tr>\n",
       "  <th>Prob(Q):</th>                <td>0.03</td>  <th>  Prob(JB):          </th>  <td>0.00</td>  \n",
       "</tr>\n",
       "<tr>\n",
       "  <th>Heteroskedasticity (H):</th> <td>0.69</td>  <th>  Skew:              </th>  <td>2.55</td>  \n",
       "</tr>\n",
       "<tr>\n",
       "  <th>Prob(H) (two-sided):</th>    <td>0.01</td>  <th>  Kurtosis:          </th>  <td>11.81</td> \n",
       "</tr>\n",
       "</table><br/><br/>Warnings:<br/>[1] Covariance matrix calculated using the outer product of gradients (complex-step)."
      ],
      "text/plain": [
       "<class 'statsmodels.iolib.summary.Summary'>\n",
       "\"\"\"\n",
       "                                     SARIMAX Results                                      \n",
       "==========================================================================================\n",
       "Dep. Variable:                              sales   No. Observations:                  731\n",
       "Model:             SARIMAX(0, 0, 1)x(0, 1, 1, 12)   Log Likelihood                -963.711\n",
       "Date:                            Mon, 27 Apr 2020   AIC                           1933.422\n",
       "Time:                                    14:07:58   BIC                           1947.097\n",
       "Sample:                                01-01-2012   HQIC                          1938.707\n",
       "                                     - 12-31-2013                                         \n",
       "Covariance Type:                              opg                                         \n",
       "==============================================================================\n",
       "                 coef    std err          z      P>|z|      [0.025      0.975]\n",
       "------------------------------------------------------------------------------\n",
       "ma.L1         -0.0411      0.054     -0.757      0.449      -0.148       0.065\n",
       "ma.S.L12      -1.0000     16.166     -0.062      0.951     -32.685      30.685\n",
       "sigma2         0.8504     13.754      0.062      0.951     -26.106      27.807\n",
       "===================================================================================\n",
       "Ljung-Box (Q):                       58.49   Jarque-Bera (JB):              3042.48\n",
       "Prob(Q):                              0.03   Prob(JB):                         0.00\n",
       "Heteroskedasticity (H):               0.69   Skew:                             2.55\n",
       "Prob(H) (two-sided):                  0.01   Kurtosis:                        11.81\n",
       "===================================================================================\n",
       "\n",
       "Warnings:\n",
       "[1] Covariance matrix calculated using the outer product of gradients (complex-step).\n",
       "\"\"\""
      ]
     },
     "execution_count": 20,
     "metadata": {},
     "output_type": "execute_result"
    }
   ],
   "source": [
    "#(0, 0, 1)x(0, 1, 1, 12)\n",
    "\n",
    "sarima = sm.tsa.statespace.SARIMAX(tra,order=(0,0,1),seasonal_order=(0,1,1,12),\n",
    "                                enforce_stationarity=False, enforce_invertibility=False,freq='D').fit()\n",
    "sarima.summary()"
   ]
  },
  {
   "cell_type": "code",
   "execution_count": 21,
   "metadata": {},
   "outputs": [
    {
     "data": {
      "image/png": "[encoded data removed]",
      "text/plain": [
       "<Figure size 1080x576 with 2 Axes>"
      ]
     },
     "metadata": {
      "needs_background": "light"
     },
     "output_type": "display_data"
    }
   ],
   "source": [
    "res = sarima.resid\n",
    "fig,ax = plt.subplots(2,1,figsize=(15,8))\n",
    "fig = sm.graphics.tsa.plot_acf(res, lags=50, ax=ax[0])\n",
    "fig = sm.graphics.tsa.plot_pacf(res, lags=50, ax=ax[1])\n",
    "plt.show()"
   ]
  },
  {
   "cell_type": "code",
   "execution_count": 22,
   "metadata": {},
   "outputs": [
    {
     "name": "stdout",
     "output_type": "stream",
     "text": [
      "SARIMA model MSE:0.275193659114978\n"
     ]
    }
   ],
   "source": [
    "from sklearn.metrics import mean_squared_error\n",
    "pred = sarima.predict(tr_end,te_end)[1:]\n",
    "print('SARIMA model MSE:{}'.format(mean_squared_error(tes,pred)))"
   ]
  },
  {
   "cell_type": "code",
   "execution_count": 23,
   "metadata": {},
   "outputs": [
    {
     "data": {
      "image/png": "[encoded data removed]",
      "text/plain": [
       "<Figure size 432x288 with 1 Axes>"
      ]
     },
     "metadata": {
      "needs_background": "light"
     },
     "output_type": "display_data"
    }
   ],
   "source": [
    "pd.DataFrame({'test':tes,'pred':pred}).plot();plt.show()"
   ]
  },
  {
   "cell_type": "markdown",
   "metadata": {},
   "source": [
    "# Make features1"
   ]
  },
  {
   "cell_type": "markdown",
   "metadata": {},
   "source": [
    "Let's try to make some features.\n",
    "- month\n",
    "- dayofweek"
   ]
  },
  {
   "cell_type": "markdown",
   "metadata": {},
   "source": [
    "Sales gropu by month"
   ]
  },
  {
   "cell_type": "code",
   "execution_count": 24,
   "metadata": {},
   "outputs": [
    {
     "data": {
      "image/png": "[encoded data removed]",
      "text/plain": [
       "<Figure size 432x288 with 1 Axes>"
      ]
     },
     "metadata": {
      "needs_background": "light"
     },
     "output_type": "display_data"
    }
   ],
   "source": [
    "buf.groupby(buf.index.month).sales.mean().plot();plt.show()"
   ]
  },
  {
   "cell_type": "markdown",
   "metadata": {},
   "source": [
    "Sales gropu by day of the week."
   ]
  },
  {
   "cell_type": "code",
   "execution_count": 25,
   "metadata": {},
   "outputs": [
    {
     "data": {
      "image/png": "[encoded data removed]",
      "text/plain": [
       "<Figure size 432x288 with 1 Axes>"
      ]
     },
     "metadata": {
      "needs_background": "light"
     },
     "output_type": "display_data"
    }
   ],
   "source": [
    "buf.groupby(buf.index.weekday).sales.mean().plot();plt.show()"
   ]
  },
  {
   "cell_type": "code",
   "execution_count": 26,
   "metadata": {},
   "outputs": [
    {
     "data": {
      "image/png": "[encoded data removed]",
      "text/plain": [
       "<Figure size 432x288 with 1 Axes>"
      ]
     },
     "metadata": {
      "needs_background": "light"
     },
     "output_type": "display_data"
    }
   ],
   "source": [
    "plt.plot(buf[0:363].sales.dropna().values)\n",
    "plt.plot(buf[364:727].sales.dropna().values);plt.show()"
   ]
  },
  {
   "cell_type": "markdown",
   "metadata": {},
   "source": [
    "SARIMA TUNING DONE ON kaggle kernal:https://www.kaggle.com/chandra03/how-to-use-sarimax-and-arimax/edit"
   ]
  },
  {
   "cell_type": "markdown",
   "metadata": {},
   "source": [
    "we got best_parms and best_AIC as : "
   ]
  },
  {
   "cell_type": "markdown",
   "metadata": {},
   "source": [
    "SARIMAX(7, 1, 7)x(1, 0, 7, 1) - AIC:5970.831754744624 - MSE:26.665358441642866\n",
    "SARIMAX(7, 1, 7)x(7, 0, 6, 1) - AIC:5968.258690396593 - MSE:24.276314556818257\n",
    "SARIMAX(7, 1, 7)x(1, 0, 2, 12) - AIC:5881.77390451937 - MSE:26.20244406957662"
   ]
  },
  {
   "cell_type": "code",
   "execution_count": 58,
   "metadata": {},
   "outputs": [
    {
     "data": {
      "text/html": [
       "<div>\n",
       "<style scoped>\n",
       "    .dataframe tbody tr th:only-of-type {\n",
       "        vertical-align: middle;\n",
       "    }\n",
       "\n",
       "    .dataframe tbody tr th {\n",
       "        vertical-align: top;\n",
       "    }\n",
       "\n",
       "    .dataframe thead th {\n",
       "        text-align: right;\n",
       "    }\n",
       "</style>\n",
       "<table border=\"1\" class=\"dataframe\">\n",
       "  <thead>\n",
       "    <tr style=\"text-align: right;\">\n",
       "      <th></th>\n",
       "      <th>category_of_product</th>\n",
       "      <th>department_identifier</th>\n",
       "      <th>outlet</th>\n",
       "      <th>product_identifier</th>\n",
       "      <th>sales</th>\n",
       "      <th>state</th>\n",
       "    </tr>\n",
       "    <tr>\n",
       "      <th>date</th>\n",
       "      <th></th>\n",
       "      <th></th>\n",
       "      <th></th>\n",
       "      <th></th>\n",
       "      <th></th>\n",
       "      <th></th>\n",
       "    </tr>\n",
       "  </thead>\n",
       "  <tbody>\n",
       "    <tr>\n",
       "      <td>2012-01-01</td>\n",
       "      <td>others</td>\n",
       "      <td>11</td>\n",
       "      <td>111</td>\n",
       "      <td>74</td>\n",
       "      <td>0.0</td>\n",
       "      <td>Maharashtra</td>\n",
       "    </tr>\n",
       "    <tr>\n",
       "      <td>2012-01-01</td>\n",
       "      <td>others</td>\n",
       "      <td>11</td>\n",
       "      <td>111</td>\n",
       "      <td>337</td>\n",
       "      <td>1.0</td>\n",
       "      <td>Maharashtra</td>\n",
       "    </tr>\n",
       "    <tr>\n",
       "      <td>2012-01-01</td>\n",
       "      <td>others</td>\n",
       "      <td>12</td>\n",
       "      <td>111</td>\n",
       "      <td>423</td>\n",
       "      <td>0.0</td>\n",
       "      <td>Maharashtra</td>\n",
       "    </tr>\n",
       "    <tr>\n",
       "      <td>2012-01-01</td>\n",
       "      <td>others</td>\n",
       "      <td>12</td>\n",
       "      <td>111</td>\n",
       "      <td>432</td>\n",
       "      <td>0.0</td>\n",
       "      <td>Maharashtra</td>\n",
       "    </tr>\n",
       "    <tr>\n",
       "      <td>2012-01-01</td>\n",
       "      <td>fast_moving_consumer_goods</td>\n",
       "      <td>21</td>\n",
       "      <td>111</td>\n",
       "      <td>581</td>\n",
       "      <td>0.0</td>\n",
       "      <td>Maharashtra</td>\n",
       "    </tr>\n",
       "  </tbody>\n",
       "</table>\n",
       "</div>"
      ],
      "text/plain": [
       "                   category_of_product  department_identifier  outlet  \\\n",
       "date                                                                    \n",
       "2012-01-01                      others                     11     111   \n",
       "2012-01-01                      others                     11     111   \n",
       "2012-01-01                      others                     12     111   \n",
       "2012-01-01                      others                     12     111   \n",
       "2012-01-01  fast_moving_consumer_goods                     21     111   \n",
       "\n",
       "            product_identifier  sales        state  \n",
       "date                                                \n",
       "2012-01-01                  74    0.0  Maharashtra  \n",
       "2012-01-01                 337    1.0  Maharashtra  \n",
       "2012-01-01                 423    0.0  Maharashtra  \n",
       "2012-01-01                 432    0.0  Maharashtra  \n",
       "2012-01-01                 581    0.0  Maharashtra  "
      ]
     },
     "execution_count": 58,
     "metadata": {},
     "output_type": "execute_result"
    }
   ],
   "source": [
    "df.head()"
   ]
  },
  {
   "cell_type": "code",
   "execution_count": 59,
   "metadata": {},
   "outputs": [],
   "source": [
    "#month one hot encoding\n",
    "df['month'] = df.index.month\n",
    "month_dummies = pd.get_dummies(df['month'])\n",
    "month_dummies.columns = ['month-'+ str(m) for m in range(1,13)]\n",
    "df = pd.concat([df, month_dummies], axis=1, join_axes=[df.index]).drop(['month'],axis=1)\n",
    "#dayofweek one hot encoding\n",
    "df['dayofweek'] = df.index.weekday\n",
    "week_dummies = pd.get_dummies(df['dayofweek'])\n",
    "week_dummies.columns = ['dayofweek-'+ str(w) for w in range(0,7)]\n",
    "df = pd.concat([df, week_dummies], axis=1, join_axes=[df.index]).drop(['dayofweek'],axis=1)\n",
    "#Satday,Sunday\n",
    "df['weekend'] = (df.index.dayofweek>4).astype(int)#Satday,Sunday\n"
   ]
  },
  {
   "cell_type": "markdown",
   "metadata": {},
   "source": [
    "tr_start,tr_end = '2012-01-01','2013-12-31'\n",
    "te_start,te_end = '2014-01-01','2014-02-28'"
   ]
  },
  {
   "cell_type": "code",
   "execution_count": 62,
   "metadata": {},
   "outputs": [
    {
     "data": {
      "text/plain": [
       "Index(['category_of_product', 'department_identifier', 'outlet',\n",
       "       'product_identifier', 'sales', 'state', 'month-1', 'month-2', 'month-3',\n",
       "       'month-4', 'month-5', 'month-6', 'month-7', 'month-8', 'month-9',\n",
       "       'month-10', 'month-11', 'month-12', 'dayofweek-0', 'dayofweek-1',\n",
       "       'dayofweek-2', 'dayofweek-3', 'dayofweek-4', 'dayofweek-5',\n",
       "       'dayofweek-6', 'weekend'],\n",
       "      dtype='object')"
      ]
     },
     "execution_count": 62,
     "metadata": {},
     "output_type": "execute_result"
    }
   ],
   "source": [
    "df.columns"
   ]
  },
  {
   "cell_type": "code",
   "execution_count": 63,
   "metadata": {},
   "outputs": [],
   "source": [
    "col = ['category_of_product', 'department_identifier', 'outlet','product_identifier', 'sales', 'state']"
   ]
  },
  {
   "cell_type": "code",
   "execution_count": 65,
   "metadata": {},
   "outputs": [
    {
     "name": "stdout",
     "output_type": "stream",
     "text": [
      "product_identifier: 74 outlet: 111 Finished.\n",
      "product_identifier: 74 outlet: 112 Finished.\n",
      "product_identifier: 74 outlet: 113 Finished.\n",
      "product_identifier: 74 outlet: 114 Finished.\n",
      "product_identifier: 74 outlet: 221 Finished.\n",
      "product_identifier: 74 outlet: 222 Finished.\n",
      "product_identifier: 74 outlet: 223 Finished.\n",
      "product_identifier: 74 outlet: 331 Finished.\n",
      "product_identifier: 74 outlet: 332 Finished.\n",
      "product_identifier: 74 outlet: 333 Finished.\n",
      "product_identifier: 337 outlet: 111 Finished.\n",
      "product_identifier: 337 outlet: 112 Finished.\n",
      "product_identifier: 337 outlet: 113 Finished.\n",
      "product_identifier: 337 outlet: 114 Finished.\n",
      "product_identifier: 337 outlet: 221 Finished.\n",
      "product_identifier: 337 outlet: 222 Finished.\n",
      "product_identifier: 337 outlet: 223 Finished.\n",
      "product_identifier: 337 outlet: 331 Finished.\n",
      "product_identifier: 337 outlet: 332 Finished.\n",
      "product_identifier: 337 outlet: 333 Finished.\n",
      "product_identifier: 423 outlet: 111 Finished.\n",
      "product_identifier: 423 outlet: 112 Finished.\n",
      "product_identifier: 423 outlet: 113 Finished.\n",
      "product_identifier: 423 outlet: 114 Finished.\n",
      "product_identifier: 423 outlet: 221 Finished.\n",
      "product_identifier: 423 outlet: 222 Finished.\n",
      "product_identifier: 423 outlet: 223 Finished.\n",
      "product_identifier: 423 outlet: 331 Finished.\n",
      "product_identifier: 423 outlet: 332 Finished.\n",
      "product_identifier: 423 outlet: 333 Finished.\n",
      "product_identifier: 432 outlet: 111 Finished.\n",
      "product_identifier: 432 outlet: 112 Finished.\n",
      "product_identifier: 432 outlet: 113 Finished.\n",
      "product_identifier: 432 outlet: 114 Finished.\n",
      "product_identifier: 432 outlet: 221 Finished.\n",
      "product_identifier: 432 outlet: 222 Finished.\n",
      "product_identifier: 432 outlet: 223 Finished.\n",
      "product_identifier: 432 outlet: 331 Finished.\n",
      "product_identifier: 432 outlet: 332 Finished.\n",
      "product_identifier: 432 outlet: 333 Finished.\n",
      "product_identifier: 581 outlet: 111 Finished.\n",
      "product_identifier: 581 outlet: 112 Finished.\n",
      "product_identifier: 581 outlet: 113 Finished.\n",
      "product_identifier: 581 outlet: 114 Finished.\n",
      "product_identifier: 581 outlet: 221 Finished.\n",
      "product_identifier: 581 outlet: 222 Finished.\n",
      "product_identifier: 581 outlet: 223 Finished.\n",
      "product_identifier: 581 outlet: 331 Finished.\n",
      "product_identifier: 581 outlet: 332 Finished.\n",
      "product_identifier: 581 outlet: 333 Finished.\n",
      "product_identifier: 611 outlet: 111 Finished.\n",
      "product_identifier: 611 outlet: 112 Finished.\n",
      "product_identifier: 611 outlet: 113 Finished.\n",
      "product_identifier: 611 outlet: 114 Finished.\n",
      "product_identifier: 611 outlet: 221 Finished.\n",
      "product_identifier: 611 outlet: 222 Finished.\n",
      "product_identifier: 611 outlet: 223 Finished.\n",
      "product_identifier: 611 outlet: 331 Finished.\n",
      "product_identifier: 611 outlet: 332 Finished.\n",
      "product_identifier: 611 outlet: 333 Finished.\n",
      "product_identifier: 631 outlet: 111 Finished.\n",
      "product_identifier: 631 outlet: 112 Finished.\n",
      "product_identifier: 631 outlet: 113 Finished.\n",
      "product_identifier: 631 outlet: 114 Finished.\n",
      "product_identifier: 631 outlet: 221 Finished.\n",
      "product_identifier: 631 outlet: 222 Finished.\n",
      "product_identifier: 631 outlet: 223 Finished.\n",
      "product_identifier: 631 outlet: 331 Finished.\n",
      "product_identifier: 631 outlet: 332 Finished.\n",
      "product_identifier: 631 outlet: 333 Finished.\n",
      "product_identifier: 659 outlet: 111 Finished.\n",
      "product_identifier: 659 outlet: 112 Finished.\n",
      "product_identifier: 659 outlet: 113 Finished.\n",
      "product_identifier: 659 outlet: 114 Finished.\n",
      "product_identifier: 659 outlet: 221 Finished.\n",
      "product_identifier: 659 outlet: 222 Finished.\n",
      "product_identifier: 659 outlet: 223 Finished.\n",
      "product_identifier: 659 outlet: 331 Finished.\n",
      "product_identifier: 659 outlet: 332 Finished.\n",
      "product_identifier: 659 outlet: 333 Finished.\n",
      "product_identifier: 743 outlet: 111 Finished.\n",
      "product_identifier: 743 outlet: 112 Finished.\n",
      "product_identifier: 743 outlet: 113 Finished.\n",
      "product_identifier: 743 outlet: 114 Finished.\n",
      "product_identifier: 743 outlet: 221 Finished.\n",
      "product_identifier: 743 outlet: 222 Finished.\n",
      "product_identifier: 743 outlet: 223 Finished.\n",
      "product_identifier: 743 outlet: 331 Finished.\n",
      "product_identifier: 743 outlet: 332 Finished.\n",
      "product_identifier: 743 outlet: 333 Finished.\n",
      "product_identifier: 797 outlet: 111 Finished.\n",
      "product_identifier: 797 outlet: 112 Finished.\n",
      "product_identifier: 797 outlet: 113 Finished.\n",
      "product_identifier: 797 outlet: 114 Finished.\n",
      "product_identifier: 797 outlet: 221 Finished.\n",
      "product_identifier: 797 outlet: 222 Finished.\n",
      "product_identifier: 797 outlet: 223 Finished.\n",
      "product_identifier: 797 outlet: 331 Finished.\n",
      "product_identifier: 797 outlet: 332 Finished.\n",
      "product_identifier: 797 outlet: 333 Finished.\n",
      "product_identifier: 868 outlet: 111 Finished.\n",
      "product_identifier: 868 outlet: 112 Finished.\n",
      "product_identifier: 868 outlet: 113 Finished.\n",
      "product_identifier: 868 outlet: 114 Finished.\n",
      "product_identifier: 868 outlet: 221 Finished.\n",
      "product_identifier: 868 outlet: 222 Finished.\n",
      "product_identifier: 868 outlet: 223 Finished.\n",
      "product_identifier: 868 outlet: 331 Finished.\n",
      "product_identifier: 868 outlet: 332 Finished.\n",
      "product_identifier: 868 outlet: 333 Finished.\n",
      "product_identifier: 904 outlet: 111 Finished.\n",
      "product_identifier: 904 outlet: 112 Finished.\n",
      "product_identifier: 904 outlet: 113 Finished.\n",
      "product_identifier: 904 outlet: 114 Finished.\n",
      "product_identifier: 904 outlet: 221 Finished.\n",
      "product_identifier: 904 outlet: 222 Finished.\n",
      "product_identifier: 904 outlet: 223 Finished.\n",
      "product_identifier: 904 outlet: 331 Finished.\n",
      "product_identifier: 904 outlet: 332 Finished.\n",
      "product_identifier: 904 outlet: 333 Finished.\n",
      "product_identifier: 926 outlet: 111 Finished.\n",
      "product_identifier: 926 outlet: 112 Finished.\n",
      "product_identifier: 926 outlet: 113 Finished.\n",
      "product_identifier: 926 outlet: 114 Finished.\n",
      "product_identifier: 926 outlet: 221 Finished.\n",
      "product_identifier: 926 outlet: 222 Finished.\n",
      "product_identifier: 926 outlet: 223 Finished.\n",
      "product_identifier: 926 outlet: 331 Finished.\n",
      "product_identifier: 926 outlet: 332 Finished.\n",
      "product_identifier: 926 outlet: 333 Finished.\n",
      "product_identifier: 972 outlet: 111 Finished.\n",
      "product_identifier: 972 outlet: 112 Finished.\n",
      "product_identifier: 972 outlet: 113 Finished.\n",
      "product_identifier: 972 outlet: 114 Finished.\n",
      "product_identifier: 972 outlet: 221 Finished.\n",
      "product_identifier: 972 outlet: 222 Finished.\n",
      "product_identifier: 972 outlet: 223 Finished.\n",
      "product_identifier: 972 outlet: 331 Finished.\n",
      "product_identifier: 972 outlet: 332 Finished.\n",
      "product_identifier: 972 outlet: 333 Finished.\n",
      "product_identifier: 973 outlet: 111 Finished.\n",
      "product_identifier: 973 outlet: 112 Finished.\n",
      "product_identifier: 973 outlet: 113 Finished.\n",
      "product_identifier: 973 outlet: 114 Finished.\n",
      "product_identifier: 973 outlet: 221 Finished.\n",
      "product_identifier: 973 outlet: 222 Finished.\n",
      "product_identifier: 973 outlet: 223 Finished.\n",
      "product_identifier: 973 outlet: 331 Finished.\n",
      "product_identifier: 973 outlet: 332 Finished.\n",
      "product_identifier: 973 outlet: 333 Finished.\n",
      "product_identifier: 1054 outlet: 111 Finished.\n",
      "product_identifier: 1054 outlet: 112 Finished.\n",
      "product_identifier: 1054 outlet: 113 Finished.\n",
      "product_identifier: 1054 outlet: 114 Finished.\n",
      "product_identifier: 1054 outlet: 221 Finished.\n",
      "product_identifier: 1054 outlet: 222 Finished.\n",
      "product_identifier: 1054 outlet: 223 Finished.\n",
      "product_identifier: 1054 outlet: 331 Finished.\n",
      "product_identifier: 1054 outlet: 332 Finished.\n",
      "product_identifier: 1054 outlet: 333 Finished.\n",
      "product_identifier: 1135 outlet: 111 Finished.\n",
      "product_identifier: 1135 outlet: 112 Finished.\n",
      "product_identifier: 1135 outlet: 113 Finished.\n",
      "product_identifier: 1135 outlet: 114 Finished.\n",
      "product_identifier: 1135 outlet: 221 Finished.\n",
      "product_identifier: 1135 outlet: 222 Finished.\n",
      "product_identifier: 1135 outlet: 223 Finished.\n",
      "product_identifier: 1135 outlet: 331 Finished.\n",
      "product_identifier: 1135 outlet: 332 Finished.\n",
      "product_identifier: 1135 outlet: 333 Finished.\n",
      "product_identifier: 1173 outlet: 111 Finished.\n",
      "product_identifier: 1173 outlet: 112 Finished.\n",
      "product_identifier: 1173 outlet: 113 Finished.\n",
      "product_identifier: 1173 outlet: 114 Finished.\n",
      "product_identifier: 1173 outlet: 221 Finished.\n",
      "product_identifier: 1173 outlet: 222 Finished.\n",
      "product_identifier: 1173 outlet: 223 Finished.\n",
      "product_identifier: 1173 outlet: 331 Finished.\n"
     ]
    },
    {
     "name": "stdout",
     "output_type": "stream",
     "text": [
      "product_identifier: 1173 outlet: 332 Finished.\n",
      "product_identifier: 1173 outlet: 333 Finished.\n",
      "product_identifier: 1190 outlet: 111 Finished.\n",
      "product_identifier: 1190 outlet: 112 Finished.\n",
      "product_identifier: 1190 outlet: 113 Finished.\n",
      "product_identifier: 1190 outlet: 114 Finished.\n",
      "product_identifier: 1190 outlet: 221 Finished.\n",
      "product_identifier: 1190 outlet: 222 Finished.\n",
      "product_identifier: 1190 outlet: 223 Finished.\n",
      "product_identifier: 1190 outlet: 331 Finished.\n",
      "product_identifier: 1190 outlet: 332 Finished.\n",
      "product_identifier: 1190 outlet: 333 Finished.\n",
      "product_identifier: 1196 outlet: 111 Finished.\n",
      "product_identifier: 1196 outlet: 112 Finished.\n",
      "product_identifier: 1196 outlet: 113 Finished.\n",
      "product_identifier: 1196 outlet: 114 Finished.\n",
      "product_identifier: 1196 outlet: 221 Finished.\n",
      "product_identifier: 1196 outlet: 222 Finished.\n",
      "product_identifier: 1196 outlet: 223 Finished.\n",
      "product_identifier: 1196 outlet: 331 Finished.\n",
      "product_identifier: 1196 outlet: 332 Finished.\n",
      "product_identifier: 1196 outlet: 333 Finished.\n",
      "product_identifier: 1228 outlet: 111 Finished.\n",
      "product_identifier: 1228 outlet: 112 Finished.\n",
      "product_identifier: 1228 outlet: 113 Finished.\n",
      "product_identifier: 1228 outlet: 114 Finished.\n",
      "product_identifier: 1228 outlet: 221 Finished.\n",
      "product_identifier: 1228 outlet: 222 Finished.\n",
      "product_identifier: 1228 outlet: 223 Finished.\n",
      "product_identifier: 1228 outlet: 331 Finished.\n",
      "product_identifier: 1228 outlet: 332 Finished.\n",
      "product_identifier: 1228 outlet: 333 Finished.\n",
      "product_identifier: 1240 outlet: 111 Finished.\n",
      "product_identifier: 1240 outlet: 112 Finished.\n",
      "product_identifier: 1240 outlet: 113 Finished.\n",
      "product_identifier: 1240 outlet: 114 Finished.\n",
      "product_identifier: 1240 outlet: 221 Finished.\n",
      "product_identifier: 1240 outlet: 222 Finished.\n",
      "product_identifier: 1240 outlet: 223 Finished.\n",
      "product_identifier: 1240 outlet: 331 Finished.\n",
      "product_identifier: 1240 outlet: 332 Finished.\n",
      "product_identifier: 1240 outlet: 333 Finished.\n",
      "product_identifier: 1242 outlet: 111 Finished.\n",
      "product_identifier: 1242 outlet: 112 Finished.\n",
      "product_identifier: 1242 outlet: 113 Finished.\n",
      "product_identifier: 1242 outlet: 114 Finished.\n",
      "product_identifier: 1242 outlet: 221 Finished.\n",
      "product_identifier: 1242 outlet: 222 Finished.\n",
      "product_identifier: 1242 outlet: 223 Finished.\n",
      "product_identifier: 1242 outlet: 331 Finished.\n",
      "product_identifier: 1242 outlet: 332 Finished.\n",
      "product_identifier: 1242 outlet: 333 Finished.\n",
      "product_identifier: 1275 outlet: 111 Finished.\n",
      "product_identifier: 1275 outlet: 112 Finished.\n",
      "product_identifier: 1275 outlet: 113 Finished.\n",
      "product_identifier: 1275 outlet: 114 Finished.\n",
      "product_identifier: 1275 outlet: 221 Finished.\n",
      "product_identifier: 1275 outlet: 222 Finished.\n",
      "product_identifier: 1275 outlet: 223 Finished.\n",
      "product_identifier: 1275 outlet: 331 Finished.\n",
      "product_identifier: 1275 outlet: 332 Finished.\n",
      "product_identifier: 1275 outlet: 333 Finished.\n",
      "product_identifier: 1322 outlet: 111 Finished.\n",
      "product_identifier: 1322 outlet: 112 Finished.\n",
      "product_identifier: 1322 outlet: 113 Finished.\n",
      "product_identifier: 1322 outlet: 114 Finished.\n",
      "product_identifier: 1322 outlet: 221 Finished.\n",
      "product_identifier: 1322 outlet: 222 Finished.\n",
      "product_identifier: 1322 outlet: 223 Finished.\n",
      "product_identifier: 1322 outlet: 331 Finished.\n",
      "product_identifier: 1322 outlet: 332 Finished.\n",
      "product_identifier: 1322 outlet: 333 Finished.\n",
      "product_identifier: 1328 outlet: 111 Finished.\n",
      "product_identifier: 1328 outlet: 112 Finished.\n",
      "product_identifier: 1328 outlet: 113 Finished.\n",
      "product_identifier: 1328 outlet: 114 Finished.\n",
      "product_identifier: 1328 outlet: 221 Finished.\n",
      "product_identifier: 1328 outlet: 222 Finished.\n",
      "product_identifier: 1328 outlet: 223 Finished.\n",
      "product_identifier: 1328 outlet: 331 Finished.\n",
      "product_identifier: 1328 outlet: 332 Finished.\n",
      "product_identifier: 1328 outlet: 333 Finished.\n",
      "product_identifier: 1365 outlet: 111 Finished.\n",
      "product_identifier: 1365 outlet: 112 Finished.\n",
      "product_identifier: 1365 outlet: 113 Finished.\n",
      "product_identifier: 1365 outlet: 114 Finished.\n",
      "product_identifier: 1365 outlet: 221 Finished.\n",
      "product_identifier: 1365 outlet: 222 Finished.\n",
      "product_identifier: 1365 outlet: 223 Finished.\n",
      "product_identifier: 1365 outlet: 331 Finished.\n",
      "product_identifier: 1365 outlet: 332 Finished.\n",
      "product_identifier: 1365 outlet: 333 Finished.\n",
      "product_identifier: 1424 outlet: 111 Finished.\n",
      "product_identifier: 1424 outlet: 112 Finished.\n",
      "product_identifier: 1424 outlet: 113 Finished.\n",
      "product_identifier: 1424 outlet: 114 Finished.\n",
      "product_identifier: 1424 outlet: 221 Finished.\n",
      "product_identifier: 1424 outlet: 222 Finished.\n",
      "product_identifier: 1424 outlet: 223 Finished.\n",
      "product_identifier: 1424 outlet: 331 Finished.\n",
      "product_identifier: 1424 outlet: 332 Finished.\n",
      "product_identifier: 1424 outlet: 333 Finished.\n",
      "product_identifier: 1472 outlet: 111 Finished.\n",
      "product_identifier: 1472 outlet: 112 Finished.\n",
      "product_identifier: 1472 outlet: 113 Finished.\n",
      "product_identifier: 1472 outlet: 114 Finished.\n",
      "product_identifier: 1472 outlet: 221 Finished.\n",
      "product_identifier: 1472 outlet: 222 Finished.\n",
      "product_identifier: 1472 outlet: 223 Finished.\n",
      "product_identifier: 1472 outlet: 331 Finished.\n",
      "product_identifier: 1472 outlet: 332 Finished.\n",
      "product_identifier: 1472 outlet: 333 Finished.\n",
      "product_identifier: 1508 outlet: 111 Finished.\n",
      "product_identifier: 1508 outlet: 112 Finished.\n",
      "product_identifier: 1508 outlet: 113 Finished.\n",
      "product_identifier: 1508 outlet: 114 Finished.\n",
      "product_identifier: 1508 outlet: 221 Finished.\n",
      "product_identifier: 1508 outlet: 222 Finished.\n",
      "product_identifier: 1508 outlet: 223 Finished.\n",
      "product_identifier: 1508 outlet: 331 Finished.\n",
      "product_identifier: 1508 outlet: 332 Finished.\n",
      "product_identifier: 1508 outlet: 333 Finished.\n",
      "product_identifier: 1542 outlet: 111 Finished.\n",
      "product_identifier: 1542 outlet: 112 Finished.\n",
      "product_identifier: 1542 outlet: 113 Finished.\n",
      "product_identifier: 1542 outlet: 114 Finished.\n",
      "product_identifier: 1542 outlet: 221 Finished.\n",
      "product_identifier: 1542 outlet: 222 Finished.\n",
      "product_identifier: 1542 outlet: 223 Finished.\n",
      "product_identifier: 1542 outlet: 331 Finished.\n",
      "product_identifier: 1542 outlet: 332 Finished.\n",
      "product_identifier: 1542 outlet: 333 Finished.\n",
      "product_identifier: 1548 outlet: 111 Finished.\n",
      "product_identifier: 1548 outlet: 112 Finished.\n",
      "product_identifier: 1548 outlet: 113 Finished.\n",
      "product_identifier: 1548 outlet: 114 Finished.\n",
      "product_identifier: 1548 outlet: 221 Finished.\n",
      "product_identifier: 1548 outlet: 222 Finished.\n",
      "product_identifier: 1548 outlet: 223 Finished.\n",
      "product_identifier: 1548 outlet: 331 Finished.\n",
      "product_identifier: 1548 outlet: 332 Finished.\n",
      "product_identifier: 1548 outlet: 333 Finished.\n",
      "product_identifier: 1599 outlet: 111 Finished.\n",
      "product_identifier: 1599 outlet: 112 Finished.\n",
      "product_identifier: 1599 outlet: 113 Finished.\n",
      "product_identifier: 1599 outlet: 114 Finished.\n",
      "product_identifier: 1599 outlet: 221 Finished.\n",
      "product_identifier: 1599 outlet: 222 Finished.\n",
      "product_identifier: 1599 outlet: 223 Finished.\n",
      "product_identifier: 1599 outlet: 331 Finished.\n",
      "product_identifier: 1599 outlet: 332 Finished.\n",
      "product_identifier: 1599 outlet: 333 Finished.\n",
      "product_identifier: 1629 outlet: 111 Finished.\n",
      "product_identifier: 1629 outlet: 112 Finished.\n",
      "product_identifier: 1629 outlet: 113 Finished.\n",
      "product_identifier: 1629 outlet: 114 Finished.\n",
      "product_identifier: 1629 outlet: 221 Finished.\n",
      "product_identifier: 1629 outlet: 222 Finished.\n",
      "product_identifier: 1629 outlet: 223 Finished.\n",
      "product_identifier: 1629 outlet: 331 Finished.\n",
      "product_identifier: 1629 outlet: 332 Finished.\n",
      "product_identifier: 1629 outlet: 333 Finished.\n",
      "product_identifier: 1672 outlet: 111 Finished.\n",
      "product_identifier: 1672 outlet: 112 Finished.\n",
      "product_identifier: 1672 outlet: 113 Finished.\n",
      "product_identifier: 1672 outlet: 114 Finished.\n",
      "product_identifier: 1672 outlet: 221 Finished.\n",
      "product_identifier: 1672 outlet: 222 Finished.\n",
      "product_identifier: 1672 outlet: 223 Finished.\n",
      "product_identifier: 1672 outlet: 331 Finished.\n",
      "product_identifier: 1672 outlet: 332 Finished.\n",
      "product_identifier: 1672 outlet: 333 Finished.\n",
      "product_identifier: 1694 outlet: 111 Finished.\n",
      "product_identifier: 1694 outlet: 112 Finished.\n",
      "product_identifier: 1694 outlet: 113 Finished.\n"
     ]
    },
    {
     "name": "stdout",
     "output_type": "stream",
     "text": [
      "product_identifier: 1694 outlet: 114 Finished.\n",
      "product_identifier: 1694 outlet: 221 Finished.\n",
      "product_identifier: 1694 outlet: 222 Finished.\n",
      "product_identifier: 1694 outlet: 223 Finished.\n",
      "product_identifier: 1694 outlet: 331 Finished.\n",
      "product_identifier: 1694 outlet: 332 Finished.\n",
      "product_identifier: 1694 outlet: 333 Finished.\n",
      "product_identifier: 1727 outlet: 111 Finished.\n",
      "product_identifier: 1727 outlet: 112 Finished.\n",
      "product_identifier: 1727 outlet: 113 Finished.\n",
      "product_identifier: 1727 outlet: 114 Finished.\n",
      "product_identifier: 1727 outlet: 221 Finished.\n",
      "product_identifier: 1727 outlet: 222 Finished.\n",
      "product_identifier: 1727 outlet: 223 Finished.\n",
      "product_identifier: 1727 outlet: 331 Finished.\n",
      "product_identifier: 1727 outlet: 332 Finished.\n",
      "product_identifier: 1727 outlet: 333 Finished.\n",
      "product_identifier: 1753 outlet: 111 Finished.\n",
      "product_identifier: 1753 outlet: 112 Finished.\n",
      "product_identifier: 1753 outlet: 113 Finished.\n",
      "product_identifier: 1753 outlet: 114 Finished.\n",
      "product_identifier: 1753 outlet: 221 Finished.\n",
      "product_identifier: 1753 outlet: 222 Finished.\n",
      "product_identifier: 1753 outlet: 223 Finished.\n",
      "product_identifier: 1753 outlet: 331 Finished.\n",
      "product_identifier: 1753 outlet: 332 Finished.\n",
      "product_identifier: 1753 outlet: 333 Finished.\n",
      "product_identifier: 2294 outlet: 111 Finished.\n",
      "product_identifier: 2294 outlet: 112 Finished.\n",
      "product_identifier: 2294 outlet: 113 Finished.\n",
      "product_identifier: 2294 outlet: 114 Finished.\n",
      "product_identifier: 2294 outlet: 221 Finished.\n",
      "product_identifier: 2294 outlet: 222 Finished.\n",
      "product_identifier: 2294 outlet: 223 Finished.\n",
      "product_identifier: 2294 outlet: 331 Finished.\n",
      "product_identifier: 2294 outlet: 332 Finished.\n",
      "product_identifier: 2294 outlet: 333 Finished.\n",
      "product_identifier: 2332 outlet: 111 Finished.\n",
      "product_identifier: 2332 outlet: 112 Finished.\n",
      "product_identifier: 2332 outlet: 113 Finished.\n",
      "product_identifier: 2332 outlet: 114 Finished.\n",
      "product_identifier: 2332 outlet: 221 Finished.\n",
      "product_identifier: 2332 outlet: 222 Finished.\n",
      "product_identifier: 2332 outlet: 223 Finished.\n",
      "product_identifier: 2332 outlet: 331 Finished.\n",
      "product_identifier: 2332 outlet: 332 Finished.\n",
      "product_identifier: 2332 outlet: 333 Finished.\n",
      "product_identifier: 2492 outlet: 111 Finished.\n",
      "product_identifier: 2492 outlet: 112 Finished.\n",
      "product_identifier: 2492 outlet: 113 Finished.\n",
      "product_identifier: 2492 outlet: 114 Finished.\n",
      "product_identifier: 2492 outlet: 221 Finished.\n",
      "product_identifier: 2492 outlet: 222 Finished.\n",
      "product_identifier: 2492 outlet: 223 Finished.\n",
      "product_identifier: 2492 outlet: 331 Finished.\n",
      "product_identifier: 2492 outlet: 332 Finished.\n",
      "product_identifier: 2492 outlet: 333 Finished.\n",
      "product_identifier: 2768 outlet: 111 Finished.\n",
      "product_identifier: 2768 outlet: 112 Finished.\n",
      "product_identifier: 2768 outlet: 113 Finished.\n",
      "product_identifier: 2768 outlet: 114 Finished.\n",
      "product_identifier: 2768 outlet: 221 Finished.\n",
      "product_identifier: 2768 outlet: 222 Finished.\n",
      "product_identifier: 2768 outlet: 223 Finished.\n",
      "product_identifier: 2768 outlet: 331 Finished.\n",
      "product_identifier: 2768 outlet: 332 Finished.\n",
      "product_identifier: 2768 outlet: 333 Finished.\n",
      "product_identifier: 2794 outlet: 111 Finished.\n",
      "product_identifier: 2794 outlet: 112 Finished.\n",
      "product_identifier: 2794 outlet: 113 Finished.\n",
      "product_identifier: 2794 outlet: 114 Finished.\n",
      "product_identifier: 2794 outlet: 221 Finished.\n",
      "product_identifier: 2794 outlet: 222 Finished.\n",
      "product_identifier: 2794 outlet: 223 Finished.\n",
      "product_identifier: 2794 outlet: 331 Finished.\n",
      "product_identifier: 2794 outlet: 332 Finished.\n",
      "product_identifier: 2794 outlet: 333 Finished.\n",
      "product_identifier: 2818 outlet: 111 Finished.\n",
      "product_identifier: 2818 outlet: 112 Finished.\n",
      "product_identifier: 2818 outlet: 113 Finished.\n",
      "product_identifier: 2818 outlet: 114 Finished.\n",
      "product_identifier: 2818 outlet: 221 Finished.\n",
      "product_identifier: 2818 outlet: 222 Finished.\n",
      "product_identifier: 2818 outlet: 223 Finished.\n",
      "product_identifier: 2818 outlet: 331 Finished.\n",
      "product_identifier: 2818 outlet: 332 Finished.\n",
      "product_identifier: 2818 outlet: 333 Finished.\n",
      "product_identifier: 2853 outlet: 111 Finished.\n",
      "product_identifier: 2853 outlet: 112 Finished.\n",
      "product_identifier: 2853 outlet: 113 Finished.\n",
      "product_identifier: 2853 outlet: 114 Finished.\n",
      "product_identifier: 2853 outlet: 221 Finished.\n",
      "product_identifier: 2853 outlet: 222 Finished.\n",
      "product_identifier: 2853 outlet: 223 Finished.\n",
      "product_identifier: 2853 outlet: 331 Finished.\n",
      "product_identifier: 2853 outlet: 332 Finished.\n",
      "product_identifier: 2853 outlet: 333 Finished.\n",
      "product_identifier: 2932 outlet: 111 Finished.\n",
      "product_identifier: 2932 outlet: 112 Finished.\n",
      "product_identifier: 2932 outlet: 113 Finished.\n",
      "product_identifier: 2932 outlet: 114 Finished.\n",
      "product_identifier: 2932 outlet: 221 Finished.\n",
      "product_identifier: 2932 outlet: 222 Finished.\n",
      "product_identifier: 2932 outlet: 223 Finished.\n",
      "product_identifier: 2932 outlet: 331 Finished.\n",
      "product_identifier: 2932 outlet: 332 Finished.\n",
      "product_identifier: 2932 outlet: 333 Finished.\n",
      "product_identifier: 2935 outlet: 111 Finished.\n",
      "product_identifier: 2935 outlet: 112 Finished.\n",
      "product_identifier: 2935 outlet: 113 Finished.\n",
      "product_identifier: 2935 outlet: 114 Finished.\n",
      "product_identifier: 2935 outlet: 221 Finished.\n",
      "product_identifier: 2935 outlet: 222 Finished.\n",
      "product_identifier: 2935 outlet: 223 Finished.\n",
      "product_identifier: 2935 outlet: 331 Finished.\n",
      "product_identifier: 2935 outlet: 332 Finished.\n",
      "product_identifier: 2935 outlet: 333 Finished.\n",
      "product_identifier: 3004 outlet: 111 Finished.\n",
      "product_identifier: 3004 outlet: 112 Finished.\n",
      "product_identifier: 3004 outlet: 113 Finished.\n",
      "product_identifier: 3004 outlet: 114 Finished.\n",
      "product_identifier: 3004 outlet: 221 Finished.\n",
      "product_identifier: 3004 outlet: 222 Finished.\n",
      "product_identifier: 3004 outlet: 223 Finished.\n",
      "product_identifier: 3004 outlet: 331 Finished.\n",
      "product_identifier: 3004 outlet: 332 Finished.\n",
      "product_identifier: 3004 outlet: 333 Finished.\n",
      "product_identifier: 3008 outlet: 111 Finished.\n",
      "product_identifier: 3008 outlet: 112 Finished.\n",
      "product_identifier: 3008 outlet: 113 Finished.\n",
      "product_identifier: 3008 outlet: 114 Finished.\n",
      "product_identifier: 3008 outlet: 221 Finished.\n",
      "product_identifier: 3008 outlet: 222 Finished.\n",
      "product_identifier: 3008 outlet: 223 Finished.\n",
      "product_identifier: 3008 outlet: 331 Finished.\n",
      "product_identifier: 3008 outlet: 332 Finished.\n",
      "product_identifier: 3008 outlet: 333 Finished.\n",
      "product_identifier: 3021 outlet: 111 Finished.\n",
      "product_identifier: 3021 outlet: 112 Finished.\n",
      "product_identifier: 3021 outlet: 113 Finished.\n",
      "product_identifier: 3021 outlet: 114 Finished.\n",
      "product_identifier: 3021 outlet: 221 Finished.\n",
      "product_identifier: 3021 outlet: 222 Finished.\n",
      "product_identifier: 3021 outlet: 223 Finished.\n",
      "product_identifier: 3021 outlet: 331 Finished.\n",
      "product_identifier: 3021 outlet: 332 Finished.\n",
      "product_identifier: 3021 outlet: 333 Finished.\n"
     ]
    }
   ],
   "source": [
    "results = []\n",
    "tr_start,tr_end = '2012-01-01','2013-12-31'\n",
    "te_start,te_end = '2014-01-01','2014-02-28'\n",
    "for i in df.product_identifier.unique():\n",
    "    for s in df.outlet.unique():\n",
    "        buf = df[(df.product_identifier==i)&(df.outlet==s)].copy()\n",
    "        #buf['sales_shifted_728'] = buf.sales.shift(728)\n",
    "        #buf['sales_shifted_364'] = buf.sales.shift(364)\n",
    "        #target_exog = buf[~buf.id.isnull()].drop(['id','store','item','sales'],axis = 1)#exog for predict.\n",
    "        target_exog = buf[te_start:].drop(col,axis = 1)#exog for predict.\n",
    "        \n",
    "        #train_test_split\n",
    "        tra = buf['sales'][tr_start:tr_end]#.dropna()\n",
    "        tes = buf['sales'][te_start:te_end]#.dropna()\n",
    "        exog_train = buf.drop(col,axis = 1)[tr_start:tr_end]#.dropna()\n",
    "        #exog_test = buf.drop(['id','store','item','sales'],axis = 1)[te_start:te_end]#.dropna()\n",
    "        \n",
    "        #fitting\n",
    "        mod = sm.tsa.statespace.SARIMAX(tra,order=(7,1,7),seasonal_order=(1,0,4,12),exog = exog_train,freq='D',\n",
    "                                       enforce_stationarity=False, enforce_invertibility=False).fit()\n",
    "        pred = mod.get_prediction(tr_end,'2014-03-31',exog =target_exog)#pd.concat([exog_test,target_exog]))\n",
    "        results.extend(pred.predicted_mean['2014-03-01':])\n",
    "        print('product_identifier:',i,'outlet:',s,'Finished.')"
   ]
  },
  {
   "cell_type": "markdown",
   "metadata": {},
   "source": [
    "outlet:array([111, 112, 113, 114, 221, 222, 223, 331, 332, 333], dtype=int64)"
   ]
  },
  {
   "cell_type": "markdown",
   "metadata": {},
   "source": [
    "product_identifier:\n",
    "array([  74,  337,  423,  432,  581,  611,  631,  659,  743,  797,  868,\n",
    "        904,  926,  972,  973, 1054, 1135, 1173, 1190, 1196, 1228, 1240,\n",
    "       1242, 1275, 1322, 1328, 1365, 1424, 1472, 1508, 1542, 1548, 1599,\n",
    "       1629, 1672, 1694, 1727, 1753, 2294, 2332, 2492, 2768, 2794, 2818,\n",
    "       2853, 2932, 2935, 3004, 3008, 3021], dtype=int64)"
   ]
  },
  {
   "cell_type": "code",
   "execution_count": 66,
   "metadata": {},
   "outputs": [],
   "source": [
    "sample['sales'] = results\n",
    "sample.to_csv('C:\\\\Users\\\\Riyansika\\\\Desktop\\\\mith exam\\\\mith time series\\\\submission_Arima_sarima\\\\submission.csv',index=False)"
   ]
  },
  {
   "cell_type": "code",
   "execution_count": null,
   "metadata": {},
   "outputs": [],
   "source": []
  }
 ],
 "metadata": {
  "kernelspec": {
   "display_name": "Python 3",
   "language": "python",
   "name": "python3"
  },
  "language_info": {
   "codemirror_mode": {
    "name": "ipython",
    "version": 3
   },
   "file_extension": ".py",
   "mimetype": "text/x-python",
   "name": "python",
   "nbconvert_exporter": "python",
   "pygments_lexer": "ipython3",
   "version": "3.7.4"
  }
 },
 "nbformat": 4,
 "nbformat_minor": 2
}
